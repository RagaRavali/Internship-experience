{
 "cells": [
  {
   "cell_type": "code",
   "execution_count": 6,
   "metadata": {
    "collapsed": true
   },
   "outputs": [],
   "source": [
    "import pandas as pd\n",
    "from time import time\n",
    "from pyelasticsearch import ElasticSearch\n"
   ]
  },
  {
   "cell_type": "code",
   "execution_count": 4,
   "metadata": {
    "collapsed": false
   },
   "outputs": [
    {
     "name": "stdout",
     "output_type": "stream",
     "text": [
      "(614, 13)\n",
      "(367, 12)\n"
     ]
    }
   ],
   "source": [
    "train_path = \"E:/intern/elastic search, kibana and eda/train_u6lujuX_CVtuZ9i.csv\"\n",
    "test_path = \"E:/intern/elastic search, kibana and eda/test_Y3wMUE5_7gLdaTN.csv\"\n",
    "train = pd.read_csv(train_path)\n",
    "test = pd.read_csv(test_path)\n",
    "print(train.shape)\n",
    "print(test.shape)"
   ]
  },
  {
   "cell_type": "code",
   "execution_count": 7,
   "metadata": {
    "collapsed": true
   },
   "outputs": [],
   "source": [
    "\n",
    "\n",
    "index_name_train = \"loan_prediction_train\"\n",
    "doc_type_train = \"av-lp_train\"\n",
    "\n",
    "index_name_test = \"loan_prediction_test\"\n",
    "doc_type_test = \"av-lp_test\"\n"
   ]
  },
  {
   "cell_type": "code",
   "execution_count": 8,
   "metadata": {
    "collapsed": true
   },
   "outputs": [],
   "source": [
    "def index_data(data_path, chunksize, index_name, doc_type):\n",
    "    f = open(data_path)\n",
    "    csvfile = pd.read_csv(f, iterator=True, chunksize=chunksize) \n",
    "    es = ElasticSearch('http://localhost:9200/')\n",
    "    try :\n",
    "        es.delete_index(index_name)\n",
    "    except :\n",
    "        pass\n",
    "    es.create_index(index_name)\n",
    "    for i,df in enumerate(csvfile): \n",
    "        records=df.where(pd.notnull(df), None).T.to_dict()\n",
    "        list_records=[records[it] for it in records]\n",
    "        try :\n",
    "            es.bulk_index(index_name, doc_type, list_records)\n",
    "        except :\n",
    "            print(\"error!, skiping chunk!\")\n",
    "            pass"
   ]
  },
  {
   "cell_type": "code",
   "execution_count": 10,
   "metadata": {
    "collapsed": false
   },
   "outputs": [
    {
     "name": "stderr",
     "output_type": "stream",
     "text": [
      "DELETE /loan_prediction_train [status:404 request:0.008s]\n",
      "DELETE /loan_prediction_test [status:404 request:0.000s]\n"
     ]
    }
   ],
   "source": [
    "index_data(train_path, 100, index_name_train, doc_type_train) # Indexing train data\n",
    "index_data(test_path, 100, index_name_test, doc_type_test) # Indexing test data\n"
   ]
  },
  {
   "cell_type": "code",
   "execution_count": null,
   "metadata": {
    "collapsed": true
   },
   "outputs": [],
   "source": []
  }
 ],
 "metadata": {
  "kernelspec": {
   "display_name": "Python 3",
   "language": "python",
   "name": "python3"
  },
  "language_info": {
   "codemirror_mode": {
    "name": "ipython",
    "version": 3
   },
   "file_extension": ".py",
   "mimetype": "text/x-python",
   "name": "python",
   "nbconvert_exporter": "python",
   "pygments_lexer": "ipython3",
   "version": "3.6.0"
  }
 },
 "nbformat": 4,
 "nbformat_minor": 2
}
