{
 "cells": [
  {
   "cell_type": "code",
   "execution_count": 5,
   "metadata": {},
   "outputs": [
    {
     "name": "stdout",
     "output_type": "stream",
     "text": [
      "[]\n"
     ]
    }
   ],
   "source": [
    "import tensorflow as tf"
   ]
  },
  {
   "cell_type": "code",
   "execution_count": 19,
   "metadata": {},
   "outputs": [
    {
     "name": "stdout",
     "output_type": "stream",
     "text": [
      "WARNING:tensorflow:From <ipython-input-19-4052cb9c5a9d>:3: initialize_all_variables (from tensorflow.python.ops.variables) is deprecated and will be removed after 2017-03-02.\n",
      "Instructions for updating:\n",
      "Use `tf.global_variables_initializer` instead.\n",
      "1.0\n",
      "2.0\n",
      "Const\n",
      "Const_1\n",
      "Const_2\n",
      "Const_3\n",
      "Const_4\n",
      "Variable/initial_value\n",
      "Variable\n",
      "Variable/Assign\n",
      "Variable/read\n",
      "Const_5\n",
      "Variable_1/initial_value\n",
      "Variable_1\n",
      "Variable_1/Assign\n",
      "Variable_1/read\n",
      "Const_6\n",
      "Variable_2/initial_value\n",
      "Variable_2\n",
      "Variable_2/Assign\n",
      "Variable_2/read\n",
      "init\n",
      "Const_7\n",
      "Variable_3/initial_value\n",
      "Variable_3\n",
      "Variable_3/Assign\n",
      "Variable_3/read\n",
      "Const_8\n",
      "Variable_4/initial_value\n",
      "Variable_4\n",
      "Variable_4/Assign\n",
      "Variable_4/read\n",
      "init_1\n",
      "Const_9\n",
      "var/initial_value\n",
      "var\n",
      "var/Assign\n",
      "var/read\n",
      "init_2\n",
      "Const_10\n",
      "var_1/initial_value\n",
      "var_1\n",
      "var_1/Assign\n",
      "var_1/read\n",
      "init_3\n"
     ]
    }
   ],
   "source": [
    "a = tf.constant(1.0)\n",
    "b = tf.Variable(2.0,name = \"var\")\n",
    "init_op = tf.initialize_all_variables()\n",
    "with tf.Session() as sess:\n",
    "    sess.run(init_op)\n",
    "    print(sess.run(a))\n",
    "    print(sess.run(b))\n",
    "graph = tf.get_default_graph()\n",
    "for op in graph.get_operations():\n",
    "    print(op.name)"
   ]
  },
  {
   "cell_type": "code",
   "execution_count": 28,
   "metadata": {},
   "outputs": [
    {
     "name": "stdout",
     "output_type": "stream",
     "text": [
      "3.0\n"
     ]
    }
   ],
   "source": [
    "i = tf.placeholder(\"float\")\n",
    "j = tf.placeholder(\"float\")\n",
    "y = tf.multiply(i,j)\n",
    "feed_dict = {i:1,j:3}\n",
    "with tf.Session() as sess:\n",
    "    print(sess.run(y,feed_dict))"
   ]
  },
  {
   "cell_type": "code",
   "execution_count": null,
   "metadata": {
    "collapsed": true
   },
   "outputs": [],
   "source": []
  }
 ],
 "metadata": {
  "kernelspec": {
   "display_name": "Python 3",
   "language": "python",
   "name": "python3"
  },
  "language_info": {
   "codemirror_mode": {
    "name": "ipython",
    "version": 3
   },
   "file_extension": ".py",
   "mimetype": "text/x-python",
   "name": "python",
   "nbconvert_exporter": "python",
   "pygments_lexer": "ipython3",
   "version": "3.5.3"
  }
 },
 "nbformat": 4,
 "nbformat_minor": 2
}
